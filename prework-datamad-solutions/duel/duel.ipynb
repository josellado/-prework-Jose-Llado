{
 "cells": [
  {
   "cell_type": "markdown",
   "metadata": {},
   "source": [
    "# Duel of sorcerers\n",
    "## Intro\n",
    "You are witnessing an epic battle between two powerful sorcerers: Gandalf and Saruman. Each sorcerer has 10 spells of variable power in their mind and they are going to throw them one after the other. The winner of the duel will be the one who wins more of those clashes between spells. Spells are represented as a list of 10 integers whose value equals the power of the spell.\n",
    "```\n",
    "gandalf = [10, 11, 13, 30, 22, 11, 10, 33, 22, 22]\n",
    "saruman = [23, 66, 12, 43, 12, 10, 44, 23, 12, 17]\n",
    "```\n",
    "For example:\n",
    "1. The first clash is won by Saruman: 10 against 23, wins 23\n",
    "2. The second clash wins Saruman: 11 against 66, wins 66\n",
    "3. etc.\n",
    "\n",
    "\n",
    "You will create two variables, one for each sorcerer, where the sum of clashes won will be stored. Depending on which variable is greater at the end of the duel, you will show one of the following three results on the screen:\n",
    "* Gandalf wins\n",
    "* Saruman wins\n",
    "* Tie\n",
    "\n",
    "<img src=\"images/content_lightning_bolt_big.jpg\" width=\"400\">\n",
    "\n",
    "## LINKS: \n",
    "* zip: https://www.programiz.com/python-programming/methods/built-in/zip"
   ]
  },
  {
   "cell_type": "markdown",
   "metadata": {},
   "source": [
    "## Solution"
   ]
  },
  {
   "cell_type": "code",
   "execution_count": 2,
   "metadata": {},
   "outputs": [],
   "source": [
    "# Assign spell power lists to variables\n",
    "gandalf = [10, 11, 13, 30, 22, 11, 10, 33, 22, 22]\n",
    "saruman = [23, 66, 12, 43, 12, 10, 44, 23, 12, 17]"
   ]
  },
  {
   "cell_type": "code",
   "execution_count": 3,
   "metadata": {},
   "outputs": [],
   "source": [
    "# Assign 0 to each variable that stores the victories\n",
    "spells = 10 \n",
    "\n",
    "spells_gandalf = 0\n",
    "spells_saruman = 0"
   ]
  },
  {
   "cell_type": "code",
   "execution_count": 4,
   "metadata": {},
   "outputs": [
    {
     "name": "stdout",
     "output_type": "stream",
     "text": [
      "6\n",
      "4\n"
     ]
    }
   ],
   "source": [
    "# Execution of spell clashes\n",
    "for battle in (range(len(gandalf))):\n",
    " \n",
    "\n",
    "\tif gandalf [battle] > saruman [battle] :\n",
    "\t\tspells_gandalf += 1 \n",
    "\t\t\n",
    "\n",
    "\n",
    "\n",
    "\telif gandalf [battle] < saruman [battle] :\n",
    "\t\tspells_saruman +=1 \n",
    "\n",
    "\n",
    "\telse: \n",
    "\n",
    "\t\tprint (' tie')\n",
    "\n",
    "print (spells_gandalf)\n",
    "print (spells_saruman)\n"
   ]
  },
  {
   "cell_type": "markdown",
   "metadata": {},
   "source": [
    "**Expected output**:\n",
    "```\n",
    "6\n",
    "4\n",
    "```"
   ]
  },
  {
   "cell_type": "code",
   "execution_count": 5,
   "metadata": {},
   "outputs": [
    {
     "name": "stdout",
     "output_type": "stream",
     "text": [
      "gandalf won 6\n"
     ]
    }
   ],
   "source": [
    "# We check who has won, do not forget the possibility of a draw.\n",
    "# Print the result based on the winner.\n",
    "if spells_gandalf > spells_saruman :\n",
    "\tprint (\"gandalf won\" , spells_gandalf)\n",
    "elif spells_saruman > spells_gandalf :\n",
    "\tprint ('saruman won' , spells_saruman)\n",
    "else: \n",
    "\tprint ('its a tie')\n"
   ]
  },
  {
   "cell_type": "markdown",
   "metadata": {},
   "source": [
    "**Expected output**:\n",
    "```\n",
    "Gandalf wins\n",
    "```"
   ]
  },
  {
   "cell_type": "markdown",
   "metadata": {},
   "source": [
    "## Goals\n",
    "\n",
    "1. Treatment of lists\n",
    "2. Use of **for loop**\n",
    "3. Use of conditional **if-elif-else**\n",
    "4. Use of the functions **range(), len()**\n",
    "5. print()\n",
    "6. zip()"
   ]
  },
  {
   "cell_type": "markdown",
   "metadata": {},
   "source": [
    "## Bonus\n",
    "\n",
    "1. Spells now have a name and there is a dictionary that relates that name to a power.\n",
    "2. A sorcerer wins if he succeeds in winning 3 spell clashes in a row.\n",
    "3. Average of each of the spell lists.\n",
    "4. Standard deviation of each of the spell lists.\n",
    "\n",
    "```\n",
    "POWER = {\n",
    "    'Fireball': 50, \n",
    "    'Lightning bolt': 40, \n",
    "    'Magic arrow': 10, \n",
    "    'Black Tentacles': 25, \n",
    "    'Contagion': 45\n",
    "}\n",
    "\n",
    "gandalf = ['Fireball', 'Lightning bolt', 'Lightning bolt', 'Magic arrow', 'Fireball', \n",
    "           'Magic arrow', 'Lightning bolt', 'Fireball', 'Fireball', 'Fireball']\n",
    "saruman = ['Contagion', 'Contagion', 'Black Tentacles', 'Fireball', 'Black Tentacles', \n",
    "           'Lightning bolt', 'Magic arrow', 'Contagion', 'Magic arrow', 'Magic arrow']\n",
    "```\n",
    "\n",
    "Good luck!"
   ]
  },
  {
   "cell_type": "code",
   "execution_count": 6,
   "metadata": {},
   "outputs": [],
   "source": [
    "# 1. Spells now have a name and there is a dictionary that relates that name to a power.\n",
    "# variables\n",
    "\n",
    "POWER = {\n",
    "    'Fireball': 50, \n",
    "    'Lightning bolt': 40, \n",
    "    'Magic arrow': 10, \n",
    "    'Black Tentacles': 25, \n",
    "    'Contagion': 45\n",
    "}\n",
    "\n",
    "gandalf = ['Fireball', 'Lightning bolt', 'Lightning bolt', 'Magic arrow', 'Fireball', \n",
    "           'Magic arrow', 'Lightning bolt', 'Fireball', 'Magic arrow', 'Fireball']\n",
    "saruman = ['Contagion', 'Contagion', 'Black Tentacles', 'Fireball', 'Black Tentacles', \n",
    "           'Lightning bolt', 'Magic arrow', 'Contagion', 'Magic arrow', 'Magic arrow']"
   ]
  },
  {
   "cell_type": "code",
   "execution_count": 7,
   "metadata": {},
   "outputs": [
    {
     "name": "stdout",
     "output_type": "stream",
     "text": [
      "[50, 40, 40, 10, 50, 10, 40, 50, 10, 50]\n",
      "[45, 45, 25, 50, 25, 40, 10, 45, 10, 10]\n",
      "([50, 40, 40, 10, 50, 10, 40, 50, 10, 50], [45, 45, 25, 50, 25, 40, 10, 45, 10, 10])\n"
     ]
    }
   ],
   "source": [
    "# Assign spell power lists to variables\n",
    "\n",
    "powers_list_gandalf =[]\n",
    "powers_list_saruman = []\n",
    "\n",
    "\n",
    "\n",
    "for spell_list_gandalf in gandalf:\n",
    "\n",
    "\tif spell_list_gandalf == 'Fireball':\n",
    "\t\tspell_list_gandalf = 50\n",
    "\t\tpowers_list_gandalf.append (spell_list_gandalf)\n",
    "\n",
    "\telif spell_list_gandalf == 'Lightning bolt':\n",
    "\t\tspell_list_gandalf = 40\n",
    "\t\tpowers_list_gandalf.append (spell_list_gandalf)\n",
    "\telif spell_list_gandalf == 'Magic arrow':\n",
    "\t\tspell_list_gandalf = 10\n",
    "\t\tpowers_list_gandalf.append (spell_list_gandalf)\n",
    "\telif spell_list_gandalf == 'Black Tentacles':\n",
    "\t\tspell_list_gandalf = 25\n",
    "\t\tpowers_list_gandalf.append (spell_list_gandalf)\n",
    "\telse : \n",
    "\t\tspell_list_gandalf = 45\n",
    "\t\tpowers_list_gandalf.append (spell_list_gandalf)\n",
    "\n",
    "\n",
    "print (powers_list_gandalf)\n",
    "\n",
    "for spell_list_saruman in saruman:\n",
    "\n",
    "\tif spell_list_saruman == 'Fireball':\n",
    "\t\tspell_list_saruman = 50 \n",
    "\t\tpowers_list_saruman.append (spell_list_saruman)\n",
    "\telif spell_list_saruman == 'Lightning bolt':\n",
    "\t\tspell_list_saruman = 40 \n",
    "\t\tpowers_list_saruman.append (spell_list_saruman)\n",
    "\telif spell_list_saruman == 'Magic arrow':\n",
    "\t\tspell_list_saruman = 10 \n",
    "\t\tpowers_list_saruman.append (spell_list_saruman)\n",
    "\telif spell_list_saruman == 'Black Tentacles':\n",
    "\t\tspell_list_saruman = 25 \n",
    "\t\tpowers_list_saruman.append (spell_list_saruman)\n",
    "\telse:\n",
    "\t\tspell_list_saruman = 45\n",
    "\t\tpowers_list_saruman.append(spell_list_saruman)\n",
    "\n",
    "print (powers_list_saruman)\n",
    "\n",
    "zip = powers_list_gandalf, powers_list_saruman\n",
    "\n",
    "print (zip)"
   ]
  },
  {
   "cell_type": "markdown",
   "metadata": {},
   "source": [
    "**Expected output**:\n",
    "```\n",
    "([50, 40, 40, 10, 50, 10, 40, 50, 10, 50],\n",
    " [45, 45, 25, 50, 25, 40, 10, 45, 10, 10])\n",
    " ```"
   ]
  },
  {
   "cell_type": "code",
   "execution_count": 14,
   "metadata": {},
   "outputs": [
    {
     "name": "stdout",
     "output_type": "stream",
     "text": [
      "gandfalf wins\n"
     ]
    }
   ],
   "source": [
    "# 2. A sorcerer wins if he succeeds in winning 3 spell clashes in a row.\n",
    "\n",
    "for i in (range(len(powers_list_gandalf))):\n",
    "    if powers_list_gandalf [i]+3 > powers_list_saruman [i]+3:\n",
    "       print ('gandfalf wins')\n",
    "    break\n",
    "\n",
    "# Execution of spell clashes\n",
    "\n",
    "# check clashes\n",
    "\n",
    "# check for 3 wins in a row\n",
    "\n",
    "# check the winner\n",
    "\n",
    "# count sum of clashes\n"
   ]
  },
  {
   "cell_type": "markdown",
   "metadata": {},
   "source": [
    "**Expected output**:\n",
    "```\n",
    "Gandalf wins\n",
    "```"
   ]
  },
  {
   "cell_type": "code",
   "execution_count": 9,
   "metadata": {},
   "outputs": [
    {
     "name": "stdout",
     "output_type": "stream",
     "text": [
      "35.0\n",
      "30.5\n"
     ]
    }
   ],
   "source": [
    "# 3. Average of each of the spell lists.\n",
    "print ((sum (powers_list_gandalf)) / (len (powers_list_gandalf)))\n",
    "print ((sum (powers_list_saruman)) / len (powers_list_saruman))"
   ]
  },
  {
   "cell_type": "markdown",
   "metadata": {},
   "source": [
    "**Expected output**:\n",
    "```\n",
    "35.0\n",
    "30.5\n",
    "```"
   ]
  },
  {
   "cell_type": "code",
   "execution_count": 10,
   "metadata": {},
   "outputs": [
    {
     "name": "stdout",
     "output_type": "stream",
     "text": [
      "17.795130420052185\n",
      "16.40629960309962\n"
     ]
    }
   ],
   "source": [
    "# 4. Standard deviation of each of the spell lists.\n",
    "import statistics \n",
    "\n",
    "print (statistics.stdev (powers_list_gandalf))\n",
    "print (statistics.stdev (powers_list_saruman))"
   ]
  },
  {
   "cell_type": "markdown",
   "metadata": {},
   "source": [
    "**Expected output**:\n",
    "```\n",
    "16.881943016134134\n",
    "15.56438241627338\n",
    "```"
   ]
  },
  {
   "cell_type": "code",
   "execution_count": null,
   "metadata": {},
   "outputs": [],
   "source": []
  }
 ],
 "metadata": {
  "kernelspec": {
   "display_name": "Python 3",
   "language": "python",
   "name": "python3"
  },
  "language_info": {
   "codemirror_mode": {
    "name": "ipython",
    "version": 3
   },
   "file_extension": ".py",
   "mimetype": "text/x-python",
   "name": "python",
   "nbconvert_exporter": "python",
   "pygments_lexer": "ipython3",
   "version": "3.8.2"
  }
 },
 "nbformat": 4,
 "nbformat_minor": 2
}
