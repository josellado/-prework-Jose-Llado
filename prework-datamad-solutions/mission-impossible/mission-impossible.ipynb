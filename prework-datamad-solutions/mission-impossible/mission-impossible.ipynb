{
 "cells": [
  {
   "cell_type": "markdown",
   "metadata": {},
   "source": [
    "# Mission Impossible\n",
    "\n",
    "## Intro\n",
    "*Good morning, Mr. Hunt. Your mission, should you choose to accept it, involves the recovery of a stolen item designated \"Chimera.\" You may select any two team members, but it is essential that the third member of your team be Nyah Nordoff-Hall. She is a civilian, and a highly capable professional thief. You have forty-eight hours to recruit Miss Hall and meet me in Seville to receive your assignment. As always, should any member of your team be caught or killed, the Secretary will disavow all knowledge of your actions. And Mr. Hunt, the next time you go on holiday, please be good enough to let us know where you're going. This message will self-destruct in five seconds.*\n",
    "\n",
    "<img src=\"images/mission-impossible.jpg\" width=\"400\">\n",
    "\n",
    "\n",
    "## Problem\n",
    "You are the computer scientist who has to protect valuable national intelligence data. This data is in a computer without internet connection in a room with a tactile floor that detects the pressure. But you've discovered that more than one spy has infiltrated and stolen data, so you have to implement and test the new security system.\n",
    "\n",
    "An ultrasensitive microphone has been installed that records all sound in the room. The list of sounds is stored in a list called dbs. As soon as the door closes it will alert if noise is detected above a threshold of 10 decibels: the alarm will sound and alert the entire building.\n",
    "\n",
    "Each item in the dbs list corresponds to a 5 second interval\n",
    "```\n",
    "dbs = [0, 1, 0, 0, 0, 0, 1, 0, 1, 23, 1, 0, 1, 1, 0, 0, 0, \n",
    "       1, 1, 0, 20, 1, 1, 15, 1, 0, 0, 0, 40, 15, 0, 0]\n",
    "```\n"
   ]
  },
  {
   "cell_type": "code",
   "execution_count": 80,
   "metadata": {},
   "outputs": [],
   "source": [
    "# Variables\n",
    "\n",
    "dbs = [0, 1, 0, 0, 0, 0, 1, 0, 1, 23, 1, 0, 1, 1, 0, 0, 0, \n",
    "       1, 1, 0, 20, 1, 1, 15, 1, 0, 0, 0, 40, 15, 0, 0]"
   ]
  },
  {
   "cell_type": "code",
   "execution_count": 143,
   "metadata": {},
   "outputs": [
    {
     "name": "stdout",
     "output_type": "stream",
     "text": [
      "[23, 20, 15, 40, 15]\n"
     ]
    }
   ],
   "source": [
    "# Show volumes that exceed 10 dBs\n",
    "\n",
    "high_values = []\n",
    "for x in (range ( len (dbs)))  :\n",
    "\tif dbs [x] > 10 : \n",
    "\t\thigh_values.append (dbs[x])\n",
    "\t\t\t\n",
    "print (high_values)\n",
    "\n"
   ]
  },
  {
   "cell_type": "markdown",
   "metadata": {},
   "source": [
    "**Expected output**: \n",
    "```\n",
    "[23, 20, 15, 40, 15]\n",
    "```"
   ]
  },
  {
   "cell_type": "code",
   "execution_count": 142,
   "metadata": {
    "scrolled": true
   },
   "outputs": [
    {
     "name": "stdout",
     "output_type": "stream",
     "text": [
      "[9, 20, 23, 28, 29]\n"
     ]
    }
   ],
   "source": [
    "# Show the moments (indexs of the list) in which a volume exceeds 10 dBs\n",
    "\n",
    "index_high_values = []\n",
    "\n",
    "for x in (range (len (dbs))) : \n",
    "\n",
    "\tif dbs [x] >= 10 : \n",
    "\n",
    "\t\t(index_high_values.append (x))\n",
    "\t\n",
    "\n",
    "print  (index_high_values)"
   ]
  },
  {
   "cell_type": "markdown",
   "metadata": {},
   "source": [
    "**Expected output**: \n",
    "```\n",
    "[9, 20, 23, 28, 29]\n",
    "```"
   ]
  },
  {
   "cell_type": "code",
   "execution_count": 151,
   "metadata": {},
   "outputs": [
    {
     "name": "stdout",
     "output_type": "stream",
     "text": [
      "[(9, 23), (20, 20), (23, 15), (28, 40), (29, 15)]\n"
     ]
    }
   ],
   "source": [
    "# Combine the last two exercises to show the moments when a \n",
    "# volume exceeds 10 dBs. HINT: Use the enumerate function\n",
    "exceeds_10 = []\n",
    "for x in range(len(index_high_values)):\n",
    "    exceeds_10.append(((index_high_values [x]),(high_values [x])))\n",
    "    \n",
    "print (exceeds_10)\n",
    "\n",
    "    \n",
    "\n"
   ]
  },
  {
   "cell_type": "markdown",
   "metadata": {},
   "source": [
    "##### **Expected output**: \n",
    "```\n",
    "[(9, 23), (20, 20), (23, 15), (28, 40), (29, 15)]\n",
    "```"
   ]
  },
  {
   "cell_type": "code",
   "execution_count": 152,
   "metadata": {},
   "outputs": [
    {
     "name": "stdout",
     "output_type": "stream",
     "text": [
      "sound the alarm\n"
     ]
    },
    {
     "ename": "IndexError",
     "evalue": "list index out of range",
     "output_type": "error",
     "traceback": [
      "\u001b[0;31m---------------------------------------------------------------------------\u001b[0m",
      "\u001b[0;31mIndexError\u001b[0m                                Traceback (most recent call last)",
      "\u001b[0;32m<ipython-input-152-0d7760e7f43f>\u001b[0m in \u001b[0;36m<module>\u001b[0;34m\u001b[0m\n\u001b[1;32m      4\u001b[0m \u001b[0mi\u001b[0m \u001b[0;34m=\u001b[0m \u001b[0;36m0\u001b[0m\u001b[0;34m\u001b[0m\u001b[0;34m\u001b[0m\u001b[0m\n\u001b[1;32m      5\u001b[0m \u001b[0;32mfor\u001b[0m \u001b[0mx\u001b[0m \u001b[0;32min\u001b[0m \u001b[0mrange\u001b[0m\u001b[0;34m(\u001b[0m\u001b[0mlen\u001b[0m\u001b[0;34m(\u001b[0m\u001b[0mexceeds_10\u001b[0m\u001b[0;34m)\u001b[0m\u001b[0;34m)\u001b[0m\u001b[0;34m:\u001b[0m\u001b[0;34m\u001b[0m\u001b[0;34m\u001b[0m\u001b[0m\n\u001b[0;32m----> 6\u001b[0;31m     \u001b[0;32mif\u001b[0m \u001b[0mexceeds_10\u001b[0m \u001b[0;34m[\u001b[0m\u001b[0mx\u001b[0m\u001b[0;34m+\u001b[0m\u001b[0;36m1\u001b[0m\u001b[0;34m]\u001b[0m\u001b[0;34m[\u001b[0m\u001b[0;36m0\u001b[0m\u001b[0;34m]\u001b[0m\u001b[0;34m-\u001b[0m \u001b[0mexceeds_10\u001b[0m \u001b[0;34m[\u001b[0m\u001b[0mx\u001b[0m\u001b[0;34m]\u001b[0m\u001b[0;34m[\u001b[0m\u001b[0;36m0\u001b[0m\u001b[0;34m]\u001b[0m\u001b[0;34m==\u001b[0m\u001b[0;36m1\u001b[0m\u001b[0;34m:\u001b[0m\u001b[0;34m\u001b[0m\u001b[0;34m\u001b[0m\u001b[0m\n\u001b[0m\u001b[1;32m      7\u001b[0m         \u001b[0mprint\u001b[0m \u001b[0;34m(\u001b[0m\u001b[0;34m'sound the alarm'\u001b[0m\u001b[0;34m)\u001b[0m\u001b[0;34m\u001b[0m\u001b[0;34m\u001b[0m\u001b[0m\n\u001b[1;32m      8\u001b[0m \u001b[0;34m\u001b[0m\u001b[0m\n",
      "\u001b[0;31mIndexError\u001b[0m: list index out of range"
     ]
    }
   ],
   "source": [
    "# Ethan is discovered if two consecutive volumes are greater than 10 dB. Is he safe? \n",
    "# HINT: Beware of the extremes, do not have an error of the type\n",
    "# IndexError: list index out of range\n",
    "i = 0 \n",
    "for x in range(len(exceeds_10)):\n",
    "    if exceeds_10 [x+1][0]- exceeds_10 [x][0]==1:\n",
    "        print ('sound the alarm')\n",
    "    \n",
    "    "
   ]
  },
  {
   "cell_type": "markdown",
   "metadata": {},
   "source": [
    "**Expected output**: \n",
    "```\n",
    "Alarm!\n",
    "```"
   ]
  },
  {
   "cell_type": "markdown",
   "metadata": {},
   "source": [
    "## LINKS\n",
    "\n",
    "* Enumerate: https://www.programiz.com/python-programming/methods/built-in/enumerate\n",
    "* Decibel: https://en.wikipedia.org/wiki/Decibel\n",
    "\n",
    "## Goals\n",
    "\n",
    "1. Treatment of lists\n",
    "2. Use of for loop\n",
    "3. Use of conditional if-elif-else\n",
    "4. Use of the functions range(), len()\n",
    "5. Use of print()\n",
    "6. Use of enumerate()\n",
    "\n",
    "\n",
    "## Bonus\n",
    "Now you have the role of Ethan's hacker. To cheat the security system you are going to execute a computer code on the list dbs and you are going to **reduce** all values higher than 20 in 12 dBs but the ones higher than 30 in 18 dBs. Then confirm the result of your operation by printing the new modified dbs list on the screen."
   ]
  },
  {
   "cell_type": "code",
   "execution_count": 13,
   "metadata": {},
   "outputs": [
    {
     "name": "stdout",
     "output_type": "stream",
     "text": [
      "[0, 1, 0, 0, 0, 0, 1, 0, 1, 23, 1, 0, 1, 1, 0, 0, 0, 1, 1, 0, 20, 1, 1, 15, 1, 0, 0, 0, 40, 15, 0, 0, 11, 22]\n"
     ]
    }
   ],
   "source": [
    "for x in (range (len (dbs))) :\n",
    "\n",
    "\tif dbs [x] > 20 and dbs [x] < 30 :\n",
    "\t\n",
    "\t\tdbs.append (dbs [x] - 12)\n",
    "\n",
    "\tif dbs [x] > 30 and dbs [x] <50 :\n",
    "\t\tdbs.append (dbs [x] - 18)\n",
    "\n",
    "print (dbs)"
   ]
  },
  {
   "cell_type": "markdown",
   "metadata": {},
   "source": [
    "**Expected output**: \n",
    "```\n",
    "Pre hacking: \n",
    "[0, 1, 0, 0, 0, 0, 1, 0, 1, 23, 1, 0, 1, 1, 0, 0, 0, 1, 1, 0, 20, 1, 1, 15, 1, 0, 0, 0, 40, 15, 0, 0]\n",
    "Post hacking: \n",
    "[0, 1, 0, 0, 0, 0, 1, 0, 1, 11, 1, 0, 1, 1, 0, 0, 0, 1, 1, 0, 20, 1, 1, 15, 1, 0, 0, 0, 22, 15, 0, 0]\n",
    "```"
   ]
  },
  {
   "cell_type": "code",
   "execution_count": null,
   "metadata": {},
   "outputs": [],
   "source": []
  },
  {
   "cell_type": "code",
   "execution_count": null,
   "metadata": {},
   "outputs": [],
   "source": []
  }
 ],
 "metadata": {
  "kernelspec": {
   "display_name": "Python 3",
   "language": "python",
   "name": "python3"
  },
  "language_info": {
   "codemirror_mode": {
    "name": "ipython",
    "version": 3
   },
   "file_extension": ".py",
   "mimetype": "text/x-python",
   "name": "python",
   "nbconvert_exporter": "python",
   "pygments_lexer": "ipython3",
   "version": "3.8.2"
  }
 },
 "nbformat": 4,
 "nbformat_minor": 2
}
